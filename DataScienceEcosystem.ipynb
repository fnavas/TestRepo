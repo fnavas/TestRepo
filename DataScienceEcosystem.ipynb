{
 "cells": [
  {
   "cell_type": "markdown",
   "id": "e0f0260f-8117-48db-ab35-5333f4fd270d",
   "metadata": {},
   "source": [
    "# Data Science Tools and Ecosystem"
   ]
  },
  {
   "cell_type": "markdown",
   "id": "149420b9-5c88-4a2d-8bc1-c4b79d464590",
   "metadata": {},
   "source": [
    "En este cuaderno, se resumen las herramientas y ecosistemas de ciencia de datos."
   ]
  },
  {
   "cell_type": "markdown",
   "id": "356079db-b256-401b-8b58-82486ab28813",
   "metadata": {},
   "source": [
    "Algunos de los lenguajes populares que utilizan los científicos de datos son:\n",
    "1. Python\n",
    "2. R\n",
    "3. Scala\n",
    "4. Julia"
   ]
  },
  {
   "cell_type": "markdown",
   "id": "d54edf9f-dce7-45e5-b465-d5c0c4f3183b",
   "metadata": {},
   "source": [
    "Algunas de las librerias comúnmente utilizadas por los científicos de datos incluyen:\n",
    "1. pandas\n",
    "2. numpy\n",
    "3. matplotlib\n",
    "4. seaborn\n",
    "5. sckit-learn"
   ]
  },
  {
   "cell_type": "markdown",
   "id": "7e5249d9-e21c-413f-b9bb-d8050039ce8d",
   "metadata": {},
   "source": [
    "|Herramientas de Ciencia de Datos|\n",
    "|--------------------------------|\n",
    "|Jupyter Notebook                |\n",
    "|Apache Spark                    |\n",
    "|TensorFlow                      |\n"
   ]
  },
  {
   "cell_type": "markdown",
   "id": "746189d4-7296-45e8-bb20-47368a8ab0fb",
   "metadata": {},
   "source": [
    "### A continuación, se presentan algunos ejemplos de evaluación de expresiones aritméticas en Python"
   ]
  },
  {
   "cell_type": "code",
   "execution_count": 1,
   "id": "a494c59d-8725-404f-a425-64cf93812bc1",
   "metadata": {},
   "outputs": [
    {
     "data": {
      "text/plain": [
       "17"
      ]
     },
     "execution_count": 1,
     "metadata": {},
     "output_type": "execute_result"
    }
   ],
   "source": [
    "(3*4)+5\n",
    "# Esta es una expresión arimética simple para multiplicar y luego suamr enteros"
   ]
  },
  {
   "cell_type": "code",
   "execution_count": 2,
   "id": "c02fa888-98a1-4aad-828e-59c7cd61d4dc",
   "metadata": {},
   "outputs": [
    {
     "data": {
      "text/plain": [
       "3.3333333333333335"
      ]
     },
     "execution_count": 2,
     "metadata": {},
     "output_type": "execute_result"
    }
   ],
   "source": [
    "200/60\n",
    "# Esto convertirá 200 minutos a horas dividiendo por 60"
   ]
  },
  {
   "cell_type": "markdown",
   "id": "b8886c08-4104-48a5-9348-fc6055d0e085",
   "metadata": {},
   "source": [
    "**Objetivos**:\n",
    "- Python\n",
    "- R\n",
    "- Julia\n",
    "- Scala"
   ]
  },
  {
   "cell_type": "markdown",
   "id": "01ca651f-80b3-4c5e-9968-9dd8b2fb5bda",
   "metadata": {},
   "source": [
    "## Autor\n",
    "Fernando Navas"
   ]
  },
  {
   "cell_type": "code",
   "execution_count": null,
   "id": "51a8dac8-287b-414b-b1bf-ba5d9fa0c995",
   "metadata": {},
   "outputs": [],
   "source": []
  }
 ],
 "metadata": {
  "kernelspec": {
   "display_name": "Python 3 (ipykernel)",
   "language": "python",
   "name": "python3"
  },
  "language_info": {
   "codemirror_mode": {
    "name": "ipython",
    "version": 3
   },
   "file_extension": ".py",
   "mimetype": "text/x-python",
   "name": "python",
   "nbconvert_exporter": "python",
   "pygments_lexer": "ipython3",
   "version": "3.12.8"
  }
 },
 "nbformat": 4,
 "nbformat_minor": 5
}
